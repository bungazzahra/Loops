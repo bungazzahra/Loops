{
  "nbformat": 4,
  "nbformat_minor": 0,
  "metadata": {
    "colab": {
      "name": "LOOPS Udemy.ipynb",
      "provenance": [],
      "collapsed_sections": []
    },
    "kernelspec": {
      "name": "python3",
      "display_name": "Python 3"
    }
  },
  "cells": [
    {
      "cell_type": "markdown",
      "metadata": {
        "id": "BK5uIrxoLRtf"
      },
      "source": [
        "# 1. FOR LOOPS"
      ]
    },
    {
      "cell_type": "code",
      "metadata": {
        "id": "IeM5ykmzHuYB",
        "outputId": "9c312014-a8b5-4e7e-eb73-90113e32675c",
        "colab": {
          "base_uri": "https://localhost:8080/"
        }
      },
      "source": [
        "# For loops are used for iterating over a sequence (a list, a tuple, a dictionary, a set, or a string).\n",
        "# An action can be executed once for each item in a list, tuple of the for loop.\n",
        "my_list=[2,3,4]\n",
        "my_list"
      ],
      "execution_count": null,
      "outputs": [
        {
          "output_type": "execute_result",
          "data": {
            "text/plain": [
              "[2, 3, 4]"
            ]
          },
          "metadata": {
            "tags": []
          },
          "execution_count": 3
        }
      ]
    },
    {
      "cell_type": "code",
      "metadata": {
        "id": "R0jpLRvsJ4Yf",
        "outputId": "aa187322-d48d-4ffe-f9b6-51a36adebe3e",
        "colab": {
          "base_uri": "https://localhost:8080/"
        }
      },
      "source": [
        "for i in my_list:\n",
        "  print(i)"
      ],
      "execution_count": null,
      "outputs": [
        {
          "output_type": "stream",
          "text": [
            "2\n",
            "3\n",
            "4\n"
          ],
          "name": "stdout"
        }
      ]
    },
    {
      "cell_type": "code",
      "metadata": {
        "id": "a5dXYSWBJ5Ze",
        "outputId": "d2c7b719-5a2a-4f85-98f7-46268c2c5879",
        "colab": {
          "base_uri": "https://localhost:8080/"
        }
      },
      "source": [
        "# you can do more than one task for every loop such as printing out 'Hello world' \n",
        "for i in my_list:\n",
        "  print(i)\n",
        "  print('heloo words')"
      ],
      "execution_count": null,
      "outputs": [
        {
          "output_type": "stream",
          "text": [
            "2\n",
            "heloo words\n",
            "3\n",
            "heloo words\n",
            "4\n",
            "heloo words\n"
          ],
          "name": "stdout"
        }
      ]
    },
    {
      "cell_type": "code",
      "metadata": {
        "id": "q76leWB9J5bx"
      },
      "source": [
        "# List of strings\n",
        "my_strings=['Bunga','sarah','rizal','faqih']"
      ],
      "execution_count": null,
      "outputs": []
    },
    {
      "cell_type": "code",
      "metadata": {
        "id": "DD9E3VLPJ5fo",
        "outputId": "cf814622-12ca-4f29-a355-da4f37806beb",
        "colab": {
          "base_uri": "https://localhost:8080/"
        }
      },
      "source": [
        "for i in my_strings:\n",
        "  print(i)"
      ],
      "execution_count": null,
      "outputs": [
        {
          "output_type": "stream",
          "text": [
            "Bunga\n",
            "sarah\n",
            "rizal\n",
            "faqih\n"
          ],
          "name": "stdout"
        }
      ]
    },
    {
      "cell_type": "code",
      "metadata": {
        "id": "2QI7iU17J5j_",
        "outputId": "1f9fa691-dfaa-4f3b-dc90-c002267c9971",
        "colab": {
          "base_uri": "https://localhost:8080/"
        }
      },
      "source": [
        "# you can loop over a string as follows\n",
        "for i in 'BUNGA':\n",
        "  print(i)"
      ],
      "execution_count": null,
      "outputs": [
        {
          "output_type": "stream",
          "text": [
            "B\n",
            "U\n",
            "N\n",
            "G\n",
            "A\n"
          ],
          "name": "stdout"
        }
      ]
    },
    {
      "cell_type": "markdown",
      "metadata": {
        "id": "VHeLtXS0Z5XU"
      },
      "source": [
        "**MINI CHALLENGE #1:**\n",
        "- **Write a code that takes in a string and prints it out on the screen except for any letter 'T'. You can replace the letter 'T' with '*'.**"
      ]
    },
    {
      "cell_type": "code",
      "metadata": {
        "id": "b_NU7mBfa-SB",
        "outputId": "0722e48a-8cd6-4efe-d360-624209ecc3c6",
        "colab": {
          "base_uri": "https://localhost:8080/"
        }
      },
      "source": [
        "for i in 'TIDUR':\n",
        "  if i=='T':\n",
        "    print('*')\n",
        "  else:\n",
        "    print(i)"
      ],
      "execution_count": null,
      "outputs": [
        {
          "output_type": "stream",
          "text": [
            "*\n",
            "I\n",
            "D\n",
            "U\n",
            "R\n"
          ],
          "name": "stdout"
        }
      ]
    },
    {
      "cell_type": "markdown",
      "metadata": {
        "id": "5ShxNDJeLVVo"
      },
      "source": [
        "# 2. RANGE"
      ]
    },
    {
      "cell_type": "code",
      "metadata": {
        "id": "fsH8H4IwJ5mi"
      },
      "source": [
        "# Range() generates a list of numbers, which is used to iterate over with for loops.\n",
        "# range() is 0-index based, meaning list indexes start at 0, not 1. \n",
        "# The last integer generated by range() is up to, but not including, last element. \n",
        "# Example: range(0, 10) generates integers from 0 up to, but not including, 10."
      ],
      "execution_count": null,
      "outputs": []
    },
    {
      "cell_type": "code",
      "metadata": {
        "id": "LfnqYODNJ5qq",
        "outputId": "80d40634-bda7-49ec-9f2d-8ebcee501f0c",
        "colab": {
          "base_uri": "https://localhost:8080/"
        }
      },
      "source": [
        "for i in range(6):\n",
        "  print(i)"
      ],
      "execution_count": null,
      "outputs": [
        {
          "output_type": "stream",
          "text": [
            "0\n",
            "1\n",
            "2\n",
            "3\n",
            "4\n",
            "5\n"
          ],
          "name": "stdout"
        }
      ]
    },
    {
      "cell_type": "code",
      "metadata": {
        "id": "b4XBIA2KJ5pT",
        "outputId": "a1ee2b8f-48e1-4edb-eea6-d13c45799e05",
        "colab": {
          "base_uri": "https://localhost:8080/"
        }
      },
      "source": [
        "# Range of numbers from 1 to 20 with steps of 2\n",
        "for i in range(1,20,2):\n",
        "  print(i)"
      ],
      "execution_count": null,
      "outputs": [
        {
          "output_type": "stream",
          "text": [
            "1\n",
            "3\n",
            "5\n",
            "7\n",
            "9\n",
            "11\n",
            "13\n",
            "15\n",
            "17\n",
            "19\n"
          ],
          "name": "stdout"
        }
      ]
    },
    {
      "cell_type": "code",
      "metadata": {
        "id": "dOpRLPUNJ5iO",
        "outputId": "892efea4-87d7-4ad2-a194-73dac81e6363",
        "colab": {
          "base_uri": "https://localhost:8080/"
        }
      },
      "source": [
        "for i in reversed(range(5)):\n",
        "  print(i)"
      ],
      "execution_count": null,
      "outputs": [
        {
          "output_type": "stream",
          "text": [
            "4\n",
            "3\n",
            "2\n",
            "1\n",
            "0\n"
          ],
          "name": "stdout"
        }
      ]
    },
    {
      "cell_type": "code",
      "metadata": {
        "id": "S4ZZ5HlFbMoY"
      },
      "source": [
        ""
      ],
      "execution_count": null,
      "outputs": []
    },
    {
      "cell_type": "markdown",
      "metadata": {
        "id": "eRgAw_bLbNBj"
      },
      "source": [
        "**MINI CHALLENGE #2:**\n",
        "- **Write a code that takes in the maximum and minimum limits from the user and prints out even numbers only between the provided range**"
      ]
    },
    {
      "cell_type": "code",
      "metadata": {
        "id": "TzPMQq-obcAI",
        "outputId": "39a0c975-2ae0-4ba2-ce68-868975c125f5",
        "colab": {
          "base_uri": "https://localhost:8080/"
        }
      },
      "source": [
        "awal=int(input('nilai awal:'))\n",
        "akhir=int(input('nilai akhir:'))\n",
        "for i in range(awal,akhir):\n",
        "  if i%2==0:\n",
        "    print(i)"
      ],
      "execution_count": null,
      "outputs": [
        {
          "output_type": "stream",
          "text": [
            "nilai awal:1\n",
            "nilai akhir:40\n",
            "2\n",
            "4\n",
            "6\n",
            "8\n",
            "10\n",
            "12\n",
            "14\n",
            "16\n",
            "18\n",
            "20\n",
            "22\n",
            "24\n",
            "26\n",
            "28\n",
            "30\n",
            "32\n",
            "34\n",
            "36\n",
            "38\n"
          ],
          "name": "stdout"
        }
      ]
    },
    {
      "cell_type": "markdown",
      "metadata": {
        "id": "KoBeo2-NW-IG"
      },
      "source": [
        "**MINI CHALLENGE #3:**\n",
        "- **Write a code that generates the following table:**\n",
        "```\n",
        "1   1    1\n",
        "2   4    8\n",
        "3   9   27\n",
        "4  16   64\n",
        "5  25  125\n",
        "6  36  216\n",
        "7  49  343\n",
        "8  64  512\n",
        "9  81  729\n",
        "10 100 1000\n",
        "```\n",
        "\n",
        "\n"
      ]
    },
    {
      "cell_type": "code",
      "metadata": {
        "id": "L0D4PZhO_PUG",
        "outputId": "158cedda-293b-4a91-d722-0d6a5db02deb",
        "colab": {
          "base_uri": "https://localhost:8080/"
        }
      },
      "source": [
        "for i in range(1,11):\n",
        "  print('{} {} {}'.format(i,i*i,i*i*i))"
      ],
      "execution_count": null,
      "outputs": [
        {
          "output_type": "stream",
          "text": [
            "1 1 1\n",
            "2 4 8\n",
            "3 9 27\n",
            "4 16 64\n",
            "5 25 125\n",
            "6 36 216\n",
            "7 49 343\n",
            "8 64 512\n",
            "9 81 729\n",
            "10 100 1000\n"
          ],
          "name": "stdout"
        }
      ]
    },
    {
      "cell_type": "markdown",
      "metadata": {
        "id": "7xt72C8NNgN8"
      },
      "source": [
        "# 3. WHILE LOOPS"
      ]
    },
    {
      "cell_type": "code",
      "metadata": {
        "id": "G1Du3nteNlfR",
        "outputId": "2926050a-1d9f-4f95-a4cf-f856559793dc",
        "colab": {
          "base_uri": "https://localhost:8080/"
        }
      },
      "source": [
        "# While loop can be used to execute a set of statements as long as a certain condition holds true.\n",
        "i=0\n",
        "\n",
        "while i<=15:\n",
        "  print(i)\n",
        "  i=i+1"
      ],
      "execution_count": null,
      "outputs": [
        {
          "output_type": "stream",
          "text": [
            "0\n",
            "1\n",
            "2\n",
            "3\n",
            "4\n",
            "5\n",
            "6\n",
            "7\n",
            "8\n",
            "9\n",
            "10\n",
            "11\n",
            "12\n",
            "13\n",
            "14\n",
            "15\n"
          ],
          "name": "stdout"
        }
      ]
    },
    {
      "cell_type": "markdown",
      "metadata": {
        "id": "lB2soXiSUWDd"
      },
      "source": [
        "**MINI CHALLENGE #4:**\n",
        "- **Write a code that displays numbers from 1 to 30 using for and while loops**\n"
      ]
    },
    {
      "cell_type": "code",
      "metadata": {
        "id": "RY_3xRVRXWuL",
        "outputId": "7dd56b58-0852-468e-dd2e-bf0dc63ebb31",
        "colab": {
          "base_uri": "https://localhost:8080/"
        }
      },
      "source": [
        "i=1\n",
        "\n",
        "while i<=30:\n",
        "  print(i)\n",
        "  i+=1"
      ],
      "execution_count": null,
      "outputs": [
        {
          "output_type": "stream",
          "text": [
            "1\n",
            "2\n",
            "3\n",
            "4\n",
            "5\n",
            "6\n",
            "7\n",
            "8\n",
            "9\n",
            "10\n",
            "11\n",
            "12\n",
            "13\n",
            "14\n",
            "15\n",
            "16\n",
            "17\n",
            "18\n",
            "19\n",
            "20\n",
            "21\n",
            "22\n",
            "23\n",
            "24\n",
            "25\n",
            "26\n",
            "27\n",
            "28\n",
            "29\n",
            "30\n"
          ],
          "name": "stdout"
        }
      ]
    },
    {
      "cell_type": "markdown",
      "metadata": {
        "id": "ZIueG9h3XXTC"
      },
      "source": [
        "**MINI CHALLENGE #5:**\n",
        "- **Create a rolling dice game that assume we have two dice (#1 and #2). The dice is being thrown and a random number is generated everytime. The game should be designed such that it prompts the user to ask if he/she would like to keep playing or exit the game.**"
      ]
    },
    {
      "cell_type": "code",
      "metadata": {
        "id": "Fz8lzJnHHXB4",
        "outputId": "823648a6-0565-4221-deed-5903c08a4659",
        "colab": {
          "base_uri": "https://localhost:8080/"
        }
      },
      "source": [
        "rolling_dice='y'\n",
        "\n",
        "while rolling_dice=='y':\n",
        "  print('Rolling dice, Please wait')\n",
        "  print('Rolling result for dice 1 ',randint(1,6))\n",
        "  print('Rolling result for dice 2 ',randint(1,6))\n",
        "  rolling_dice=input('do ypu want to roll again?')"
      ],
      "execution_count": null,
      "outputs": [
        {
          "output_type": "stream",
          "text": [
            "Rolling dice, Please wait\n",
            "Rolling result for dice 1  1\n",
            "Rolling result for dice 2  5\n",
            "do ypu want to roll again?y\n",
            "Rolling dice, Please wait\n",
            "Rolling result for dice 1  4\n",
            "Rolling result for dice 2  1\n",
            "do ypu want to roll again?y\n",
            "Rolling dice, Please wait\n",
            "Rolling result for dice 1  4\n",
            "Rolling result for dice 2  2\n",
            "do ypu want to roll again?n\n"
          ],
          "name": "stdout"
        }
      ]
    },
    {
      "cell_type": "code",
      "metadata": {
        "id": "e5lIJV7KnV9W",
        "outputId": "aef982c2-6237-4f3b-9fa7-f083298c6c30",
        "colab": {
          "base_uri": "https://localhost:8080/"
        }
      },
      "source": [
        "from random import randint\n",
        "\n",
        "for i in range(10):\n",
        "  print(randint(1,6))"
      ],
      "execution_count": null,
      "outputs": [
        {
          "output_type": "stream",
          "text": [
            "5\n",
            "5\n",
            "1\n",
            "6\n",
            "1\n",
            "5\n",
            "3\n",
            "5\n",
            "5\n",
            "2\n"
          ],
          "name": "stdout"
        }
      ]
    },
    {
      "cell_type": "markdown",
      "metadata": {
        "id": "9wunXtl0M9sT"
      },
      "source": [
        "# 4. BREAK A LOOP"
      ]
    },
    {
      "cell_type": "code",
      "metadata": {
        "id": "Zl8mvmT3J5eY"
      },
      "source": [
        "# break() is used to exit a for loop or a while loop\n",
        "# continue() is used to skip the current block, and return to the \"for\" or \"while\" statement."
      ],
      "execution_count": null,
      "outputs": []
    },
    {
      "cell_type": "code",
      "metadata": {
        "id": "mYbZR3i6NH8k",
        "outputId": "41c79522-5387-4960-9df8-85cf91f4b7d0",
        "colab": {
          "base_uri": "https://localhost:8080/"
        }
      },
      "source": [
        "my_list=['goog','appl','t','tsla','sp500']\n",
        "my_list"
      ],
      "execution_count": null,
      "outputs": [
        {
          "output_type": "execute_result",
          "data": {
            "text/plain": [
              "['goog', 'appl', 't', 'tsla', 'sp500']"
            ]
          },
          "metadata": {
            "tags": []
          },
          "execution_count": 1
        }
      ]
    },
    {
      "cell_type": "code",
      "metadata": {
        "id": "JGerA93sNM4C",
        "outputId": "a4a8f68c-b57a-4442-e8f5-092d7b2d3e66",
        "colab": {
          "base_uri": "https://localhost:8080/"
        }
      },
      "source": [
        "# print out all elements in the list\n",
        "for i in my_list:\n",
        "  print(i)"
      ],
      "execution_count": null,
      "outputs": [
        {
          "output_type": "stream",
          "text": [
            "goog\n",
            "appl\n",
            "t\n",
            "tsla\n",
            "sp500\n"
          ],
          "name": "stdout"
        }
      ]
    },
    {
      "cell_type": "code",
      "metadata": {
        "id": "7gsSn9R9NNBH",
        "outputId": "88a34950-170a-40e4-8dbb-0b98bc772e12",
        "colab": {
          "base_uri": "https://localhost:8080/"
        }
      },
      "source": [
        "# print out all elements in the list up until the AT&T stock (Ticker Symbol = T) is detected\n",
        "for i in my_list:\n",
        "   print(i)\n",
        "   if i=='t':\n",
        "      break\n"
      ],
      "execution_count": null,
      "outputs": [
        {
          "output_type": "stream",
          "text": [
            "goog\n",
            "appl\n",
            "t\n"
          ],
          "name": "stdout"
        }
      ]
    },
    {
      "cell_type": "code",
      "metadata": {
        "id": "Rja3f7RiNM_F",
        "outputId": "4b943dde-f9d9-4d61-a9d2-21242f45f02c",
        "colab": {
          "base_uri": "https://localhost:8080/"
        }
      },
      "source": [
        "# Print only odd elements and skip even numbers\n",
        "for i in range(1,10):\n",
        "  if i%2!=0:\n",
        "    print(i)\n",
        "  \n"
      ],
      "execution_count": null,
      "outputs": [
        {
          "output_type": "stream",
          "text": [
            "1\n",
            "3\n",
            "5\n",
            "7\n",
            "9\n"
          ],
          "name": "stdout"
        }
      ]
    },
    {
      "cell_type": "code",
      "metadata": {
        "id": "6n30yX1FDs7E",
        "outputId": "69c82afc-987f-4672-d4df-5d29b21f6743",
        "colab": {
          "base_uri": "https://localhost:8080/"
        }
      },
      "source": [
        "# Print only odd elements and skip even numbers\n",
        "for i in range(1,10):\n",
        "  if i%2==0:\n",
        "    continue #jika ketemu angka genap lanjut aja, kalo ganjil print\n",
        "  print(i)\n",
        "  "
      ],
      "execution_count": null,
      "outputs": [
        {
          "output_type": "stream",
          "text": [
            "1\n",
            "3\n",
            "5\n",
            "7\n",
            "9\n"
          ],
          "name": "stdout"
        }
      ]
    },
    {
      "cell_type": "markdown",
      "metadata": {
        "id": "JF9CljMnYwEi"
      },
      "source": [
        "**MINI CHALLENGE #6:**\n",
        "- **Write a code that continiously gets data from the user and calculates the average and print out on the screen. The code exits when the user enters 'e'.**"
      ]
    },
    {
      "cell_type": "code",
      "metadata": {
        "id": "ynWaFl9LoIjw"
      },
      "source": [
        "get=int(input('masukan nilai:')\n",
        "\n",
        "avg=0\n",
        "n=0\n",
        "while get!='e':\n",
        "  avg=avg+get\n",
        "\n"
      ],
      "execution_count": null,
      "outputs": []
    },
    {
      "cell_type": "markdown",
      "metadata": {
        "id": "22kF_RupOG2o"
      },
      "source": [
        "# 5. NESTED LOOPS"
      ]
    },
    {
      "cell_type": "code",
      "metadata": {
        "id": "rL6xaGIbNM69",
        "outputId": "c1a0693f-0bb6-4c3c-ce92-949efd5773cf",
        "colab": {
          "base_uri": "https://localhost:8080/"
        }
      },
      "source": [
        "# Nested loops are loops that exist inside the body of another loop\n",
        "for x in range(1,3): # outer loop\n",
        "  for y in range(1,11): #inner outer\n",
        "    print('{} * {} = {}'.format(x,y,x*y))"
      ],
      "execution_count": null,
      "outputs": [
        {
          "output_type": "stream",
          "text": [
            "1 * 1 = 1\n",
            "1 * 2 = 2\n",
            "1 * 3 = 3\n",
            "1 * 4 = 4\n",
            "1 * 5 = 5\n",
            "1 * 6 = 6\n",
            "1 * 7 = 7\n",
            "1 * 8 = 8\n",
            "1 * 9 = 9\n",
            "1 * 10 = 10\n",
            "2 * 1 = 2\n",
            "2 * 2 = 4\n",
            "2 * 3 = 6\n",
            "2 * 4 = 8\n",
            "2 * 5 = 10\n",
            "2 * 6 = 12\n",
            "2 * 7 = 14\n",
            "2 * 8 = 16\n",
            "2 * 9 = 18\n",
            "2 * 10 = 20\n"
          ],
          "name": "stdout"
        }
      ]
    },
    {
      "cell_type": "markdown",
      "metadata": {
        "id": "r9D5aZhAfa-O"
      },
      "source": [
        "**MINI CHALLENGE #7:**\n",
        "- **Write a code that takes in a number (range between 1 and 9) from the user and print out the multiplication table up until that number.**"
      ]
    },
    {
      "cell_type": "code",
      "metadata": {
        "id": "LD-wO03co0QI",
        "outputId": "401e1d2c-6361-417f-9c70-40fb262b5d01",
        "colab": {
          "base_uri": "https://localhost:8080/"
        }
      },
      "source": [
        "print(\"Keep entering numbers and I will display the average to you!\")\n",
        "avg = 0\n",
        "n = 0\n",
        "while True:\n",
        "    x = input(\"Enter a number: \")\n",
        "    \n",
        "    # Check if the user wants to exit (i.e.: break the loop)\n",
        "    if x == 'e':\n",
        "      break\n",
        "    \n",
        "    x = int(x)\n",
        "    n = n + 1\n",
        "    \n",
        "    avg =   ((avg * (n - 1) ) + x) / n\n",
        "    print (\"The current average is \", avg)"
      ],
      "execution_count": null,
      "outputs": [
        {
          "output_type": "stream",
          "text": [
            "Keep entering numbers and I will display the average to you!\n",
            "Enter a number: 5\n",
            "The current average is  5.0\n",
            "Enter a number: 5\n",
            "The current average is  5.0\n",
            "Enter a number: 7\n",
            "The current average is  5.666666666666667\n",
            "Enter a number: e\n"
          ],
          "name": "stdout"
        }
      ]
    },
    {
      "cell_type": "markdown",
      "metadata": {
        "id": "2-WphsjVPDiZ"
      },
      "source": [
        "# 6. LIST COMPREHENSION"
      ]
    },
    {
      "cell_type": "code",
      "metadata": {
        "id": "qz9csDMHPNWA",
        "outputId": "91052c2a-7a34-4fae-80b4-49754ca67659",
        "colab": {
          "base_uri": "https://localhost:8080/"
        }
      },
      "source": [
        "# List comprehension is an elegant tool to transform one list into another list. \n",
        "# Instead of using loops and append, list comprehension is used to iterate over a list, condition its elements and include them in a new list.\n",
        "# Let's take a look at the traditional way of taking a list and squaring its elements\n",
        "input_list=[1,2,3,4]\n",
        "output_list=[]\n",
        "\n",
        "for i in input_list:\n",
        "  output_list.append(i**2)\n",
        "output_list\n"
      ],
      "execution_count": null,
      "outputs": [
        {
          "output_type": "execute_result",
          "data": {
            "text/plain": [
              "[1, 4, 9, 16]"
            ]
          },
          "metadata": {
            "tags": []
          },
          "execution_count": 13
        }
      ]
    },
    {
      "cell_type": "code",
      "metadata": {
        "id": "vw-8Z7adPdTP",
        "outputId": "3541d4d7-43ad-4bc6-b7d8-29d601c2b2d3",
        "colab": {
          "base_uri": "https://localhost:8080/"
        }
      },
      "source": [
        "# List comprehension is a super powerful one line of code!\n",
        "[i**2 for i in input_list ]"
      ],
      "execution_count": null,
      "outputs": [
        {
          "output_type": "execute_result",
          "data": {
            "text/plain": [
              "[1, 4, 9, 16]"
            ]
          },
          "metadata": {
            "tags": []
          },
          "execution_count": 14
        }
      ]
    },
    {
      "cell_type": "code",
      "metadata": {
        "id": "az-FlBJsPwRh",
        "outputId": "b7e74b4e-04cb-432c-ff30-fe1d23895a06",
        "colab": {
          "base_uri": "https://localhost:8080/"
        }
      },
      "source": [
        "# Let's square even numbers only \n",
        "# We need to insert a condition \n",
        "input_list=[1,2,3,4,5,6,7,8,9,10]\n",
        "output_list=[]\n",
        "\n",
        "for i in input_list:\n",
        "  if i%2==0:\n",
        "    output_list.append(i**2)\n",
        "output_list\n"
      ],
      "execution_count": null,
      "outputs": [
        {
          "output_type": "execute_result",
          "data": {
            "text/plain": [
              "[4, 16, 36, 64, 100]"
            ]
          },
          "metadata": {
            "tags": []
          },
          "execution_count": 19
        }
      ]
    },
    {
      "cell_type": "code",
      "metadata": {
        "id": "UGqbDGnfvftb",
        "outputId": "fd6d5c7a-dee3-499f-c955-e83a4b2575d0",
        "colab": {
          "base_uri": "https://localhost:8080/"
        }
      },
      "source": [
        "[i**2 for i in input_list if i%2==0]"
      ],
      "execution_count": null,
      "outputs": [
        {
          "output_type": "execute_result",
          "data": {
            "text/plain": [
              "[4, 16, 36, 64, 100]"
            ]
          },
          "metadata": {
            "tags": []
          },
          "execution_count": 20
        }
      ]
    },
    {
      "cell_type": "markdown",
      "metadata": {
        "id": "lIBSXypYX_3O"
      },
      "source": [
        "**MINI CHALLENGE #8:**\n",
        "- **Write a code that takes in a list of prices of a stock for the past 7 days and then normalize the prices** "
      ]
    },
    {
      "cell_type": "code",
      "metadata": {
        "id": "02iEvxCQQyZ7",
        "outputId": "b946c449-f424-4bd9-ea6f-aa84db7f6715",
        "colab": {
          "base_uri": "https://localhost:8080/"
        }
      },
      "source": [
        "print('enter a list of past7 days price')\n",
        "\n",
        "price=[2000,3000,4000,3000,6000]\n",
        "norm_price=[]\n",
        "\n",
        "for i in price:\n",
        "  norm= (i-min(price))/(max(price)-min(price))\n",
        "  norm_price.append(norm)\n",
        "norm_price\n"
      ],
      "execution_count": null,
      "outputs": [
        {
          "output_type": "stream",
          "text": [
            "enter a list of past7 days price\n"
          ],
          "name": "stdout"
        },
        {
          "output_type": "execute_result",
          "data": {
            "text/plain": [
              "[0.0, 0.25, 0.5, 0.25, 1.0]"
            ]
          },
          "metadata": {
            "tags": []
          },
          "execution_count": 26
        }
      ]
    },
    {
      "cell_type": "code",
      "metadata": {
        "id": "ohUaNQduyCuM",
        "outputId": "b6b6580e-df29-406d-918a-b41018ae6bc5",
        "colab": {
          "base_uri": "https://localhost:8080/"
        }
      },
      "source": [
        "print('masukan harga saham 7 hari')\n",
        "\n",
        "price=[int(i) for i in input().split()]"
      ],
      "execution_count": null,
      "outputs": [
        {
          "output_type": "stream",
          "text": [
            "masukan harga saham 7 hari\n",
            "3000 4000 5000 3400 6000\n"
          ],
          "name": "stdout"
        }
      ]
    },
    {
      "cell_type": "code",
      "metadata": {
        "id": "LlClys43xMsx",
        "outputId": "019bf622-bf4b-435b-dd84-e74d20598e90",
        "colab": {
          "base_uri": "https://localhost:8080/"
        }
      },
      "source": [
        "price"
      ],
      "execution_count": null,
      "outputs": [
        {
          "output_type": "execute_result",
          "data": {
            "text/plain": [
              "[3000, 4000, 5000, 3400, 6000]"
            ]
          },
          "metadata": {
            "tags": []
          },
          "execution_count": 35
        }
      ]
    },
    {
      "cell_type": "code",
      "metadata": {
        "id": "DaEfeDNazy8U",
        "outputId": "35917074-50f2-4edf-9efd-82813920535d",
        "colab": {
          "base_uri": "https://localhost:8080/"
        }
      },
      "source": [
        "#normalisasi\n",
        "\n",
        "normalize_price=[(i/price[0]) for i in price]\n",
        "print('original price= {}\\n normalized prices={}'.format(price,normalize_price))"
      ],
      "execution_count": null,
      "outputs": [
        {
          "output_type": "stream",
          "text": [
            "original price= [3000, 4000, 5000, 3400, 6000]\n",
            " normalized prices=[1.0, 1.3333333333333333, 1.6666666666666667, 1.1333333333333333, 2.0]\n"
          ],
          "name": "stdout"
        }
      ]
    },
    {
      "cell_type": "markdown",
      "metadata": {
        "id": "aXkGeaUza3d0"
      },
      "source": [
        "# MINI CHALLENGE SOLUTION"
      ]
    },
    {
      "cell_type": "markdown",
      "metadata": {
        "id": "Pc-Wifl4a_hA"
      },
      "source": [
        "**MINI CHALLENGE #1:**\n",
        "- **Write a code that takes in a string and prints it out on the screen except for any letter 'T'. You can replace the letter 'T' with '*'.**"
      ]
    },
    {
      "cell_type": "code",
      "metadata": {
        "id": "ZVy77WA2a5QC"
      },
      "source": [
        "for letter in 'TSLA':\n",
        "  if letter == 'T':\n",
        "    print('*')\n",
        "  else:\n",
        "   print(letter)"
      ],
      "execution_count": null,
      "outputs": []
    },
    {
      "cell_type": "markdown",
      "metadata": {
        "id": "9OSRnPn0bf-u"
      },
      "source": [
        "**MINI CHALLENGE #2 SOLUTION:**\n",
        "- **Write a code that takes in the maximum and minimum limits from the user and prints out even numbers only between the provided range**"
      ]
    },
    {
      "cell_type": "code",
      "metadata": {
        "id": "jqQpkqe-bgaW"
      },
      "source": [
        "min = int(input(\"Enter the price (lower bound: \"))\n",
        "max = int(input(\"Enter the price (Upper bound: \"))\n",
        "\n",
        "for i in range(min, max):\n",
        "    if i%2 == 0: \n",
        "        print(i)"
      ],
      "execution_count": null,
      "outputs": []
    },
    {
      "cell_type": "markdown",
      "metadata": {
        "id": "L6-jK2s0bwXc"
      },
      "source": [
        "**MINI CHALLENGE #3 SOLUTION:**\n",
        "- **Write a code that generates the following table:**\n",
        "```\n",
        "1   1    1\n",
        "2   4    8\n",
        "3   9   27\n",
        "4  16   64\n",
        "5  25  125\n",
        "6  36  216\n",
        "7  49  343\n",
        "8  64  512\n",
        "9  81  729\n",
        "10 100 1000\n",
        "```\n"
      ]
    },
    {
      "cell_type": "code",
      "metadata": {
        "id": "YU82QHJ9boi2"
      },
      "source": [
        "for x in range(1, 11):\n",
        "    print('{} {} {}'.format(x, x*x, x*x*x))"
      ],
      "execution_count": null,
      "outputs": []
    },
    {
      "cell_type": "markdown",
      "metadata": {
        "id": "KfpFJ7tBb8RO"
      },
      "source": [
        "**MINI CHALLENGE #4 SOLUTION:**\n",
        "- **Write a code that displays numbers from 1 to 30 (including 30) using for and while loops**"
      ]
    },
    {
      "cell_type": "code",
      "metadata": {
        "id": "UukURLDIb0go"
      },
      "source": [
        "i = 1\n",
        "while (i < 31):\n",
        "  print (i)\n",
        "  i = i+1"
      ],
      "execution_count": null,
      "outputs": []
    },
    {
      "cell_type": "code",
      "metadata": {
        "id": "iTYnoI4-cES_"
      },
      "source": [
        "for i in range(1, 31):\n",
        "    print(i)"
      ],
      "execution_count": null,
      "outputs": []
    },
    {
      "cell_type": "markdown",
      "metadata": {
        "id": "YGwSp4VScYc6"
      },
      "source": [
        "**MINI CHALLENGE #5 SOLUTION:**\n",
        "- **Create a rolling dice game that assume we have two dice (#1 and #2). The dice is being thrown and a random number is generated everytime. The game should be designed such that it prompts the user to ask if he/she would like to keep playing or exit the game.**"
      ]
    },
    {
      "cell_type": "code",
      "metadata": {
        "id": "bQizGjKvcRW7"
      },
      "source": [
        "import random\n",
        "\n",
        "keep_rolling = \"y\"\n",
        "\n",
        "while keep_rolling == \"y\":\n",
        "    print(\"Rolling the dices, please wait!...\")\n",
        "    print(\"Rolling results for Dice #1:\", random.randint(1, 6))\n",
        "    print(\"Rolling results for Dice #2:\", random.randint(1, 6))\n",
        "\n",
        "    keep_rolling = input(\"Do you want to roll again?\")"
      ],
      "execution_count": null,
      "outputs": []
    },
    {
      "cell_type": "markdown",
      "metadata": {
        "id": "fhPFAXMFdAgv"
      },
      "source": [
        "**MINI CHALLENGE #6 SOLUTION:**\n",
        "- **Write a code that continiously gets data from the user and calculates the average and print out on the screen. The code exits when the user enters 'e'.**"
      ]
    },
    {
      "cell_type": "code",
      "metadata": {
        "id": "TwdLz4BOcesU"
      },
      "source": [
        "print(\"Keep entering numbers and I will display the average to you!\")\n",
        "avg = 0\n",
        "n = 0\n",
        "while True:\n",
        "    x = input(\"Enter a number: \")\n",
        "    \n",
        "    # Check if the user wants to exit (i.e.: break the loop)\n",
        "    if x == 'e':\n",
        "      break\n",
        "    \n",
        "    x = int(x)\n",
        "    n = n + 1\n",
        "    \n",
        "    avg =   ((avg * (n - 1) ) + x) / n\n",
        "    print (\"The current average is \", avg)"
      ],
      "execution_count": null,
      "outputs": []
    },
    {
      "cell_type": "markdown",
      "metadata": {
        "id": "Ga5YJU8fhV1V"
      },
      "source": [
        "**MINI CHALLENGE #7 SOLUTION:**\n",
        "- **Write a code that takes in a number (range between 1 and 9) from the user and print out the multiplication table up until that number.**"
      ]
    },
    {
      "cell_type": "code",
      "metadata": {
        "id": "XPRNPUmHddYx"
      },
      "source": [
        "number = int(input(\"Enter a number between 1 and 9: \"))\n",
        "\n",
        "for x in range(1, number+1): # slow loop \n",
        "  for y in range(1, 11):   # fast loop\n",
        "   print('{} x {} = {}'.format(x, y, x*y))"
      ],
      "execution_count": null,
      "outputs": []
    },
    {
      "cell_type": "markdown",
      "metadata": {
        "id": "6eUUTJKEhgzw"
      },
      "source": [
        "**MINI CHALLENGE #8 SOLUTION:**\n",
        "- **Write a code that takes in a list of prices of a stock for the past 7 days and then normalize the prices** "
      ]
    },
    {
      "cell_type": "code",
      "metadata": {
        "id": "G-i-cSuRhiZF"
      },
      "source": [
        "print('Enter a list of past 7-days prices separated by a space:')\n",
        "prices = [int(x) for x in input().split()]"
      ],
      "execution_count": null,
      "outputs": []
    },
    {
      "cell_type": "code",
      "metadata": {
        "id": "05OwM9e2hsg7"
      },
      "source": [
        "normalized_prices = [ (i/prices[0]) for i in prices]\n",
        "print('Orginal Prices: {}\\nNormalized Prices: {}\\n'.format(prices, normalized_prices))"
      ],
      "execution_count": null,
      "outputs": []
    }
  ]
}